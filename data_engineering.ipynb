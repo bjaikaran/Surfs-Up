{
 "cells": [
  {
   "cell_type": "markdown",
   "metadata": {},
   "source": [
    "# Step 1 - Data Engineering\n",
    "***\n",
    "Import, analysis and data cleansing of CSV data"
   ]
  },
  {
   "cell_type": "code",
   "execution_count": 1,
   "metadata": {},
   "outputs": [],
   "source": [
    "# Importing Dependencies\n",
    "import pandas as pd\n",
    "import numpy as np\n",
    "import datetime as dt"
   ]
  },
  {
   "cell_type": "code",
   "execution_count": 2,
   "metadata": {},
   "outputs": [],
   "source": [
    "# Path to data files\n",
    "measurements_csv = \"data_files/hawaii_measurements.csv\"\n",
    "stations_csv = \"data_files/hawaii_stations.csv\""
   ]
  },
  {
   "cell_type": "code",
   "execution_count": 3,
   "metadata": {},
   "outputs": [],
   "source": [
    "# Reading files into Pandas Dataframe\n",
    "hawaii_meas_df = pd.read_csv(measurements_csv, header=\"infer\",dtype={\"station\":\"str\",\"date\":\"str\",\"prcp\":\"float\",\"tobs\":\"float\"} )\n",
    "hawaii_stat_df = pd.read_csv(stations_csv, header=\"infer\")"
   ]
  },
  {
   "cell_type": "code",
   "execution_count": 4,
   "metadata": {},
   "outputs": [
    {
     "data": {
      "text/html": [
       "<div>\n",
       "<style scoped>\n",
       "    .dataframe tbody tr th:only-of-type {\n",
       "        vertical-align: middle;\n",
       "    }\n",
       "\n",
       "    .dataframe tbody tr th {\n",
       "        vertical-align: top;\n",
       "    }\n",
       "\n",
       "    .dataframe thead th {\n",
       "        text-align: right;\n",
       "    }\n",
       "</style>\n",
       "<table border=\"1\" class=\"dataframe\">\n",
       "  <thead>\n",
       "    <tr style=\"text-align: right;\">\n",
       "      <th></th>\n",
       "      <th>station</th>\n",
       "      <th>date</th>\n",
       "      <th>prcp</th>\n",
       "      <th>tobs</th>\n",
       "    </tr>\n",
       "  </thead>\n",
       "  <tbody>\n",
       "    <tr>\n",
       "      <th>count</th>\n",
       "      <td>19550</td>\n",
       "      <td>19550</td>\n",
       "      <td>18103.000000</td>\n",
       "      <td>19550.000000</td>\n",
       "    </tr>\n",
       "    <tr>\n",
       "      <th>unique</th>\n",
       "      <td>9</td>\n",
       "      <td>2792</td>\n",
       "      <td>NaN</td>\n",
       "      <td>NaN</td>\n",
       "    </tr>\n",
       "    <tr>\n",
       "      <th>top</th>\n",
       "      <td>USC00519281</td>\n",
       "      <td>2012-04-04</td>\n",
       "      <td>NaN</td>\n",
       "      <td>NaN</td>\n",
       "    </tr>\n",
       "    <tr>\n",
       "      <th>freq</th>\n",
       "      <td>2772</td>\n",
       "      <td>9</td>\n",
       "      <td>NaN</td>\n",
       "      <td>NaN</td>\n",
       "    </tr>\n",
       "    <tr>\n",
       "      <th>mean</th>\n",
       "      <td>NaN</td>\n",
       "      <td>NaN</td>\n",
       "      <td>0.160644</td>\n",
       "      <td>73.097954</td>\n",
       "    </tr>\n",
       "    <tr>\n",
       "      <th>std</th>\n",
       "      <td>NaN</td>\n",
       "      <td>NaN</td>\n",
       "      <td>0.468746</td>\n",
       "      <td>4.523527</td>\n",
       "    </tr>\n",
       "    <tr>\n",
       "      <th>min</th>\n",
       "      <td>NaN</td>\n",
       "      <td>NaN</td>\n",
       "      <td>0.000000</td>\n",
       "      <td>53.000000</td>\n",
       "    </tr>\n",
       "    <tr>\n",
       "      <th>25%</th>\n",
       "      <td>NaN</td>\n",
       "      <td>NaN</td>\n",
       "      <td>0.000000</td>\n",
       "      <td>70.000000</td>\n",
       "    </tr>\n",
       "    <tr>\n",
       "      <th>50%</th>\n",
       "      <td>NaN</td>\n",
       "      <td>NaN</td>\n",
       "      <td>0.010000</td>\n",
       "      <td>73.000000</td>\n",
       "    </tr>\n",
       "    <tr>\n",
       "      <th>75%</th>\n",
       "      <td>NaN</td>\n",
       "      <td>NaN</td>\n",
       "      <td>0.110000</td>\n",
       "      <td>76.000000</td>\n",
       "    </tr>\n",
       "    <tr>\n",
       "      <th>max</th>\n",
       "      <td>NaN</td>\n",
       "      <td>NaN</td>\n",
       "      <td>11.530000</td>\n",
       "      <td>87.000000</td>\n",
       "    </tr>\n",
       "  </tbody>\n",
       "</table>\n",
       "</div>"
      ],
      "text/plain": [
       "            station        date          prcp          tobs\n",
       "count         19550       19550  18103.000000  19550.000000\n",
       "unique            9        2792           NaN           NaN\n",
       "top     USC00519281  2012-04-04           NaN           NaN\n",
       "freq           2772           9           NaN           NaN\n",
       "mean            NaN         NaN      0.160644     73.097954\n",
       "std             NaN         NaN      0.468746      4.523527\n",
       "min             NaN         NaN      0.000000     53.000000\n",
       "25%             NaN         NaN      0.000000     70.000000\n",
       "50%             NaN         NaN      0.010000     73.000000\n",
       "75%             NaN         NaN      0.110000     76.000000\n",
       "max             NaN         NaN     11.530000     87.000000"
      ]
     },
     "execution_count": 4,
     "metadata": {},
     "output_type": "execute_result"
    }
   ],
   "source": [
    "# Verifying Data and potential cleaning actions\n",
    "hawaii_meas_df.describe(include=\"all\")"
   ]
  },
  {
   "cell_type": "code",
   "execution_count": 5,
   "metadata": {},
   "outputs": [
    {
     "data": {
      "text/html": [
       "<div>\n",
       "<style scoped>\n",
       "    .dataframe tbody tr th:only-of-type {\n",
       "        vertical-align: middle;\n",
       "    }\n",
       "\n",
       "    .dataframe tbody tr th {\n",
       "        vertical-align: top;\n",
       "    }\n",
       "\n",
       "    .dataframe thead th {\n",
       "        text-align: right;\n",
       "    }\n",
       "</style>\n",
       "<table border=\"1\" class=\"dataframe\">\n",
       "  <thead>\n",
       "    <tr style=\"text-align: right;\">\n",
       "      <th></th>\n",
       "      <th>station</th>\n",
       "      <th>name</th>\n",
       "      <th>latitude</th>\n",
       "      <th>longitude</th>\n",
       "      <th>elevation</th>\n",
       "    </tr>\n",
       "  </thead>\n",
       "  <tbody>\n",
       "    <tr>\n",
       "      <th>count</th>\n",
       "      <td>9</td>\n",
       "      <td>9</td>\n",
       "      <td>9.000000</td>\n",
       "      <td>9.000000</td>\n",
       "      <td>9.000000</td>\n",
       "    </tr>\n",
       "    <tr>\n",
       "      <th>unique</th>\n",
       "      <td>9</td>\n",
       "      <td>9</td>\n",
       "      <td>NaN</td>\n",
       "      <td>NaN</td>\n",
       "      <td>NaN</td>\n",
       "    </tr>\n",
       "    <tr>\n",
       "      <th>top</th>\n",
       "      <td>USC00516128</td>\n",
       "      <td>HONOLULU OBSERVATORY 702.2, HI US</td>\n",
       "      <td>NaN</td>\n",
       "      <td>NaN</td>\n",
       "      <td>NaN</td>\n",
       "    </tr>\n",
       "    <tr>\n",
       "      <th>freq</th>\n",
       "      <td>1</td>\n",
       "      <td>1</td>\n",
       "      <td>NaN</td>\n",
       "      <td>NaN</td>\n",
       "      <td>NaN</td>\n",
       "    </tr>\n",
       "    <tr>\n",
       "      <th>mean</th>\n",
       "      <td>NaN</td>\n",
       "      <td>NaN</td>\n",
       "      <td>21.393826</td>\n",
       "      <td>-157.867098</td>\n",
       "      <td>60.977778</td>\n",
       "    </tr>\n",
       "    <tr>\n",
       "      <th>std</th>\n",
       "      <td>NaN</td>\n",
       "      <td>NaN</td>\n",
       "      <td>0.086442</td>\n",
       "      <td>0.103873</td>\n",
       "      <td>103.465547</td>\n",
       "    </tr>\n",
       "    <tr>\n",
       "      <th>min</th>\n",
       "      <td>NaN</td>\n",
       "      <td>NaN</td>\n",
       "      <td>21.271600</td>\n",
       "      <td>-158.011100</td>\n",
       "      <td>0.900000</td>\n",
       "    </tr>\n",
       "    <tr>\n",
       "      <th>25%</th>\n",
       "      <td>NaN</td>\n",
       "      <td>NaN</td>\n",
       "      <td>21.333100</td>\n",
       "      <td>-157.975100</td>\n",
       "      <td>7.000000</td>\n",
       "    </tr>\n",
       "    <tr>\n",
       "      <th>50%</th>\n",
       "      <td>NaN</td>\n",
       "      <td>NaN</td>\n",
       "      <td>21.393400</td>\n",
       "      <td>-157.837400</td>\n",
       "      <td>14.600000</td>\n",
       "    </tr>\n",
       "    <tr>\n",
       "      <th>75%</th>\n",
       "      <td>NaN</td>\n",
       "      <td>NaN</td>\n",
       "      <td>21.451670</td>\n",
       "      <td>-157.802500</td>\n",
       "      <td>32.900000</td>\n",
       "    </tr>\n",
       "    <tr>\n",
       "      <th>max</th>\n",
       "      <td>NaN</td>\n",
       "      <td>NaN</td>\n",
       "      <td>21.521300</td>\n",
       "      <td>-157.711390</td>\n",
       "      <td>306.600000</td>\n",
       "    </tr>\n",
       "  </tbody>\n",
       "</table>\n",
       "</div>"
      ],
      "text/plain": [
       "            station                               name   latitude   longitude  \\\n",
       "count             9                                  9   9.000000    9.000000   \n",
       "unique            9                                  9        NaN         NaN   \n",
       "top     USC00516128  HONOLULU OBSERVATORY 702.2, HI US        NaN         NaN   \n",
       "freq              1                                  1        NaN         NaN   \n",
       "mean            NaN                                NaN  21.393826 -157.867098   \n",
       "std             NaN                                NaN   0.086442    0.103873   \n",
       "min             NaN                                NaN  21.271600 -158.011100   \n",
       "25%             NaN                                NaN  21.333100 -157.975100   \n",
       "50%             NaN                                NaN  21.393400 -157.837400   \n",
       "75%             NaN                                NaN  21.451670 -157.802500   \n",
       "max             NaN                                NaN  21.521300 -157.711390   \n",
       "\n",
       "         elevation  \n",
       "count     9.000000  \n",
       "unique         NaN  \n",
       "top            NaN  \n",
       "freq           NaN  \n",
       "mean     60.977778  \n",
       "std     103.465547  \n",
       "min       0.900000  \n",
       "25%       7.000000  \n",
       "50%      14.600000  \n",
       "75%      32.900000  \n",
       "max     306.600000  "
      ]
     },
     "execution_count": 5,
     "metadata": {},
     "output_type": "execute_result"
    }
   ],
   "source": [
    "# Verifying Data and potential cleaning actions\n",
    "hawaii_stat_df.describe(include=\"all\")"
   ]
  },
  {
   "cell_type": "code",
   "execution_count": 6,
   "metadata": {},
   "outputs": [],
   "source": [
    "# Establishing index for Stations dataframe\n",
    "if \"station\" in hawaii_stat_df.columns:\n",
    "    hawaii_stat_df.set_index(\"station\", inplace=True)\n",
    "clean_hawaii_stat_df = hawaii_stat_df"
   ]
  },
  {
   "cell_type": "code",
   "execution_count": 7,
   "metadata": {},
   "outputs": [],
   "source": [
    "# Creating a set of data that finds the average precipitation by station and month\n",
    "hawaii_meas_avg_df = pd.DataFrame(hawaii_meas_df.loc[:,[\"station\",\"date\",\"prcp\",\"tobs\"]])\n",
    "hawaii_meas_avg_df[\"prcp\"] = hawaii_meas_avg_df[\"prcp\"].astype(float)\n",
    "hawaii_meas_avg_df[\"tobs\"] = hawaii_meas_avg_df[\"tobs\"].astype(float)\n",
    "hawaii_meas_avg_df[\"date\"] = pd.to_datetime(hawaii_meas_avg_df[\"date\"],format=\"%Y-%m-%d\", errors=\"coerce\")\n",
    "hawaii_meas_avg_df[\"year\"] = hawaii_meas_avg_df[\"date\"].dt.year\n",
    "hawaii_meas_avg_df[\"month\"] = hawaii_meas_avg_df[\"date\"].dt.month\n",
    "hawaii_meas_avg_df[\"day\"] = hawaii_meas_avg_df[\"date\"].dt.day\n",
    "if \"station\" in hawaii_meas_avg_df.columns:\n",
    "    hawaii_meas_avg_df[\"station_month\"] = hawaii_meas_avg_df[\"station\"].astype(str, errors=\"ignore\")+\"_\"+hawaii_meas_avg_df[\"month\"].astype(str)\n",
    "else:\n",
    "    hawaii_meas_avg_df[\"station_month\"] = hawaii_meas_avg_df.index.astype(str, errors=\"ignore\")+\"_\"+hawaii_meas_avg_df[\"month\"].astype(str)\n",
    "avg_prcp_by_month = hawaii_meas_avg_df.loc[:,[\"station_month\",\"prcp\"]]"
   ]
  },
  {
   "cell_type": "code",
   "execution_count": 8,
   "metadata": {},
   "outputs": [],
   "source": [
    "# Dropping all NaN values in \"prcp\" column and creating an averages group by \n",
    "# the \"station_month\" column\n",
    "avg_prcp_by_month.dropna(inplace=True)\n",
    "avg_prcp_by_month=avg_prcp_by_month.groupby([\"station_month\"])[\"prcp\"].mean()\n"
   ]
  },
  {
   "cell_type": "code",
   "execution_count": 9,
   "metadata": {},
   "outputs": [],
   "source": [
    "# Replacing all NaN values with the average \"prcp\" data by station and month\n",
    "hawaii_meas_avg_df.prcp = round(hawaii_meas_avg_df.prcp.fillna(\n",
    "    hawaii_meas_avg_df.station_month.map(avg_prcp_by_month).astype(float)),2)"
   ]
  },
  {
   "cell_type": "code",
   "execution_count": 10,
   "metadata": {},
   "outputs": [
    {
     "name": "stdout",
     "output_type": "stream",
     "text": [
      "Index assigned to 'station' column.\n"
     ]
    }
   ],
   "source": [
    "# Evaluating if the \"station\" column is the index, and establishing \"station\" \n",
    "# as the index if not.\n",
    "if \"station\" in hawaii_meas_avg_df.columns:\n",
    "    hawaii_meas_avg_df.set_index(\"station\", inplace=True)\n",
    "    print(\"Index assigned to 'station' column.\")\n",
    "else:\n",
    "    print(\"Index has already been assigned to'station' column.\")\n",
    "    \n",
    "hawaii_meas_df = hawaii_meas_avg_df"
   ]
  },
  {
   "cell_type": "code",
   "execution_count": 11,
   "metadata": {},
   "outputs": [],
   "source": [
    "# Saving all of the new columns added to a separate dataframe\n",
    "attr_hawaii_meas_df = hawaii_meas_avg_df\n",
    "\n",
    "# Verifying index has not been set and establishing the index for new dataframe\n",
    "if \"station\" in attr_hawaii_meas_df.columns:\n",
    "    attr_hawaii_meas_df.set_index(\"station\", inplace=True)\n",
    "else:\n",
    "    \"\"\n"
   ]
  },
  {
   "cell_type": "code",
   "execution_count": 12,
   "metadata": {},
   "outputs": [
    {
     "name": "stdout",
     "output_type": "stream",
     "text": [
      "Index has already been assigned to'station' column.\n"
     ]
    }
   ],
   "source": [
    "# Final cleansing of Measurement data by verifying and establishing index of \"station\" column\n",
    "if \"station\" in hawaii_meas_df.columns:\n",
    "    clean_hawaii_meas_df = hawaii_meas_df.loc[:,[\"station\",\"date\",\"prcp\",\"tobs\"]]\n",
    "    hawaii_meas_df.set_index(\"station\", inplace=True)\n",
    "    print(\"Index assigned to 'station' column.\")\n",
    "else:\n",
    "    clean_hawaii_meas_df = hawaii_meas_df.loc[:,[\"date\",\"prcp\",\"tobs\"]]\n",
    "    print(\"Index has already been assigned to'station' column.\")"
   ]
  },
  {
   "cell_type": "code",
   "execution_count": 13,
   "metadata": {},
   "outputs": [],
   "source": [
    "# Outputting cleaned versions of each dataframe\n",
    "clean_hawaii_meas_df.to_csv(measurements_csv.replace(\"data_files/\",\"data_files/CLEAN_\"))\n",
    "clean_hawaii_stat_df.to_csv(stations_csv.replace(\"data_files/\",\"data_files/CLEAN_\"))"
   ]
  },
  {
   "cell_type": "code",
   "execution_count": 14,
   "metadata": {},
   "outputs": [],
   "source": [
    "# Saving output of additional fields for reference or analysis.\n",
    "attr_hawaii_meas_df.to_csv(\"data_files/measurements_with_additional_attributes.csv\")"
   ]
  }
 ],
 "metadata": {
  "kernelspec": {
   "display_name": "Python [conda env:Anaconda3]",
   "language": "python",
   "name": "conda-env-Anaconda3-py"
  },
  "language_info": {
   "codemirror_mode": {
    "name": "ipython",
    "version": 3
   },
   "file_extension": ".py",
   "mimetype": "text/x-python",
   "name": "python",
   "nbconvert_exporter": "python",
   "pygments_lexer": "ipython3",
   "version": "3.6.5"
  }
 },
 "nbformat": 4,
 "nbformat_minor": 2
}
