{
 "cells": [
  {
   "cell_type": "markdown",
   "metadata": {
    "slideshow": {
     "slide_type": "slide"
    }
   },
   "source": [
    "# Step 3 - Climate Analysis and Exploration\n",
    "***\n",
    "Injesting the SQLite file created in ***Step 2*** and creating the following analysis displays  \n",
    "  *(includes user interface requirements)*\n",
    "\n",
    "\n",
    "* Precipitation Analysis\n",
    "  * A query and line graph that retrieves and displays the last 12 months of precipitation data\n",
    "* Station Analysis\n",
    "  * A query to calculate the total number of stations, the most active stations, and retrieval of the last 12 months of temperature observations\n",
    "  * Generate a histogram to show the 12 month observatoin data by highest number of observations in 12 bins.\n",
    "* Temperature Analysis\n",
    "  * Create a user input function for a span of dates, and output the minimum, average, and maximum temperatures. \n",
    "  * Data can also represent projected, or estimated, temperature analysis based on the previous year's figures.\n",
    "  * Display the data via a bar chart to include a standard y-error between peak min and max.\n",
    "  \n",
    "  \n",
    "---\n",
    "*Optional Graphs*\n",
    "  * *Calculate the rainfall per weather station using the previous year's matching dates. Include daily normals through a function and export to a pandas dataframe.*\n",
    "  * *Visualize this data using an area plot.*"
   ]
  },
  {
   "cell_type": "markdown",
   "metadata": {},
   "source": [
    "## Precipitation Analysis"
   ]
  },
  {
   "cell_type": "code",
   "execution_count": 1,
   "metadata": {},
   "outputs": [],
   "source": [
    "# Importing dependencies\n",
    "#*******************************************\n",
    "import matplotlib\n",
    "from matplotlib import style\n",
    "import matplotlib.pyplot as plt\n",
    "import pandas as pd\n",
    "import numpy as np\n",
    "import datetime as dt\n",
    "import sqlalchemy\n",
    "from sqlalchemy.ext.automap import automap_base\n",
    "from sqlalchemy.orm import Session\n",
    "from sqlalchemy import create_engine, inspect, func"
   ]
  },
  {
   "cell_type": "code",
   "execution_count": 2,
   "metadata": {},
   "outputs": [],
   "source": [
    "# SQL Connection and attributes\n",
    "engine = create_engine(\"sqlite:///hawaii.sqlite\", echo=False)\n",
    "Base = automap_base()\n",
    "Base.prepare(engine, reflect=True)"
   ]
  },
  {
   "cell_type": "code",
   "execution_count": 3,
   "metadata": {},
   "outputs": [],
   "source": [
    "# Establishing connection session\n",
    "session = Session(bind=engine)"
   ]
  },
  {
   "cell_type": "code",
   "execution_count": 4,
   "metadata": {},
   "outputs": [
    {
     "name": "stdout",
     "output_type": "stream",
     "text": [
      "Table 1: measurements\n",
      "     Col: id (INTEGER)\n",
      "     Col: station (VARCHAR(50))\n",
      "     Col: date (DATE)\n",
      "     Col: prcp (FLOAT)\n",
      "     Col: tobs (FLOAT)\n",
      "Table 2: stations\n",
      "     Col: station (VARCHAR(50))\n",
      "     Col: name (VARCHAR(255))\n",
      "     Col: latitude (FLOAT)\n",
      "     Col: longitude (FLOAT)\n",
      "     Col: elevation (FLOAT)\n"
     ]
    }
   ],
   "source": [
    "# Verify tables and structure from SQLite database\n",
    "inspector = inspect(engine)\n",
    "tbl_names = inspector.get_table_names()\n",
    "i =1 \n",
    "for table in tbl_names:\n",
    "    print(\"Table \"+str(i)+\": \"+str(table))\n",
    "    i = i+1\n",
    "    columns = inspector.get_columns(table)\n",
    "    for col in columns:\n",
    "        print(\"     Col: \"+str(col[\"name\"])+\" (\"+str(col[\"type\"])+\")\")\n"
   ]
  },
  {
   "cell_type": "code",
   "execution_count": 5,
   "metadata": {},
   "outputs": [
    {
     "name": "stdout",
     "output_type": "stream",
     "text": [
      "{'constrained_columns': ['station'], 'name': None}\n",
      "{'constrained_columns': ['id'], 'name': None}\n"
     ]
    }
   ],
   "source": [
    "# Obtaining class information\n",
    "print(str(inspector.get_pk_constraint(\"stations\")))\n",
    "print(str(inspector.get_pk_constraint(\"measurements\")))"
   ]
  },
  {
   "cell_type": "code",
   "execution_count": 6,
   "metadata": {},
   "outputs": [],
   "source": [
    "# Assigning table classes\n",
    "Measurements = Base.classes.measurements\n",
    "Stations = Base.classes.stations"
   ]
  },
  {
   "cell_type": "code",
   "execution_count": 7,
   "metadata": {},
   "outputs": [],
   "source": [
    "# Creating Precipitation Analysis pandas dataframe to house the \"date\" and \"prcp\" values from the \"measurements\" table\n",
    "prcp_analysis_df = pd.read_sql(\"SELECT date, prcp FROM measurements\", con=engine, columns=[[\"date\"],[\"prcp\"]])"
   ]
  },
  {
   "cell_type": "raw",
   "metadata": {},
   "source": [
    "# Seeing if the data returned through the query method of SQLAlchemy changes my results\n",
    "\n",
    "sql_prcp = session.query(Measurements.date,Measurements.prcp).\\\n",
    "            filter(Measurements.date >= pa_min_date).all()\n",
    "\n",
    "prcp_sql_df = pd.DataFrame(np.array(sql_prcp), columns=({\"date\",\"prcp\"}))\n",
    "prcp_sql_df.date = pd.to_datetime(prcp_sql_df.date,format=\"%Y-%m-%d\", errors=\"coerce\")\n",
    "prcp_sql_df.prcp = prcp_sql_df.prcp.astype(float) "
   ]
  },
  {
   "cell_type": "raw",
   "metadata": {},
   "source": [
    "prcp_sql_df.describe()"
   ]
  },
  {
   "cell_type": "code",
   "execution_count": 8,
   "metadata": {},
   "outputs": [],
   "source": [
    "# Converting the \"date\" field into the date data-type\n",
    "prcp_analysis_df[\"date\"] = pd.to_datetime(prcp_analysis_df[\"date\"],format=\"%Y-%m-%d\", errors=\"coerce\")"
   ]
  },
  {
   "cell_type": "code",
   "execution_count": 9,
   "metadata": {},
   "outputs": [
    {
     "name": "stdout",
     "output_type": "stream",
     "text": [
      "Date Range: 2016-08-23 to 2017-08-23\n"
     ]
    }
   ],
   "source": [
    "# Determining the max date and subtracting 365 days to create the minimum date (or the past 12 months)\n",
    "pa_max_date = prcp_analysis_df[\"date\"].max().date()\n",
    "pa_today = dt.date.today()\n",
    "pa_min_date = (pa_max_date - dt.timedelta(days=365))\n",
    "print(\"Date Range: \"+str(pa_min_date)+\" to \"+str(pa_max_date))"
   ]
  },
  {
   "cell_type": "code",
   "execution_count": 10,
   "metadata": {},
   "outputs": [],
   "source": [
    "# Dropping all records from Precipitation Analysis dataframe that are not within the last 12 months from the max date\n",
    "prcp_analysis_df = prcp_analysis_df.loc[prcp_analysis_df[\"date\"]>=pa_min_date]"
   ]
  },
  {
   "cell_type": "code",
   "execution_count": 11,
   "metadata": {},
   "outputs": [
    {
     "data": {
      "text/html": [
       "<div>\n",
       "<style scoped>\n",
       "    .dataframe tbody tr th:only-of-type {\n",
       "        vertical-align: middle;\n",
       "    }\n",
       "\n",
       "    .dataframe tbody tr th {\n",
       "        vertical-align: top;\n",
       "    }\n",
       "\n",
       "    .dataframe thead th {\n",
       "        text-align: right;\n",
       "    }\n",
       "</style>\n",
       "<table border=\"1\" class=\"dataframe\">\n",
       "  <thead>\n",
       "    <tr style=\"text-align: right;\">\n",
       "      <th></th>\n",
       "      <th>prcp</th>\n",
       "    </tr>\n",
       "  </thead>\n",
       "  <tbody>\n",
       "    <tr>\n",
       "      <th>count</th>\n",
       "      <td>2230.000000</td>\n",
       "    </tr>\n",
       "    <tr>\n",
       "      <th>mean</th>\n",
       "      <td>0.171816</td>\n",
       "    </tr>\n",
       "    <tr>\n",
       "      <th>std</th>\n",
       "      <td>0.440754</td>\n",
       "    </tr>\n",
       "    <tr>\n",
       "      <th>min</th>\n",
       "      <td>0.000000</td>\n",
       "    </tr>\n",
       "    <tr>\n",
       "      <th>25%</th>\n",
       "      <td>0.000000</td>\n",
       "    </tr>\n",
       "    <tr>\n",
       "      <th>50%</th>\n",
       "      <td>0.030000</td>\n",
       "    </tr>\n",
       "    <tr>\n",
       "      <th>75%</th>\n",
       "      <td>0.140000</td>\n",
       "    </tr>\n",
       "    <tr>\n",
       "      <th>max</th>\n",
       "      <td>6.700000</td>\n",
       "    </tr>\n",
       "  </tbody>\n",
       "</table>\n",
       "</div>"
      ],
      "text/plain": [
       "              prcp\n",
       "count  2230.000000\n",
       "mean      0.171816\n",
       "std       0.440754\n",
       "min       0.000000\n",
       "25%       0.000000\n",
       "50%       0.030000\n",
       "75%       0.140000\n",
       "max       6.700000"
      ]
     },
     "execution_count": 11,
     "metadata": {},
     "output_type": "execute_result"
    }
   ],
   "source": [
    "prcp_analysis_df.set_index(\"date\", inplace=True)\n",
    "prcp_analysis_df.describe(include=\"all\")"
   ]
  },
  {
   "cell_type": "code",
   "execution_count": 12,
   "metadata": {},
   "outputs": [
    {
     "data": {
      "image/png": "[encoded data removed]",
      "text/plain": [
       "<Figure size 1440x576 with 1 Axes>"
      ]
     },
     "metadata": {},
     "output_type": "display_data"
    }
   ],
   "source": [
    "ax = prcp_analysis_df.plot.line(y=\"prcp\",figsize=(20,8), fontsize=17, color=\"#33B3FF\")\n",
    "ax.patch.set_facecolor(\"#000000\")\n",
    "ax.set_xlabel(xlabel=\"\\n\\nPast 12 Months of Data\", fontsize=20, color=\"#000000\", fontweight=\"bold\")\n",
    "ax.set_frame_on(b=True)\n",
    "ax.set_facecolor(\"#202020\")\n",
    "ax.grid(True, alpha=.3)\n",
    "ax.legend(frameon=True, fancybox=True, facecolor=\"#FFFFFF\", edgecolor=\"#000000\", shadow=True, loc=\"best\", fontsize=15, mode=\"exapnd\")\n",
    "ax.label_outer()\n",
    "ax.set_title(\"Precipitation Analysis\\n\", fontsize=28, color=\"#000000\", fontweight=\"bold\")\n",
    "plt.tight_layout()\n",
    "plt.savefig(\"prcp_analysis.png\")\n"
   ]
  },
  {
   "cell_type": "markdown",
   "metadata": {},
   "source": [
    "## Station Analysis"
   ]
  },
  {
   "cell_type": "code",
   "execution_count": 13,
   "metadata": {},
   "outputs": [],
   "source": [
    "# Counting activity by station data to determine most active station\n",
    "active_df = pd.read_sql(\"SELECT s.station, count(m.station) as station_count FROM measurements m, stations s WHERE m.station=s.station GROUP BY m.station\", con=engine, columns=[[\"station\"],[\"station_count\"]])"
   ]
  },
  {
   "cell_type": "code",
   "execution_count": 14,
   "metadata": {},
   "outputs": [],
   "source": [
    "# Sorting the values by highest value count first\n",
    "active_df.sort_values(by=\"station_count\", ascending=False, inplace=True)"
   ]
  },
  {
   "cell_type": "code",
   "execution_count": 15,
   "metadata": {},
   "outputs": [],
   "source": [
    "# Settings the \"station\" as the index\n",
    "indexed_activity = active_df.set_index(\"station\")"
   ]
  },
  {
   "cell_type": "code",
   "execution_count": 16,
   "metadata": {},
   "outputs": [
    {
     "data": {
      "text/html": [
       "<div>\n",
       "<style scoped>\n",
       "    .dataframe tbody tr th:only-of-type {\n",
       "        vertical-align: middle;\n",
       "    }\n",
       "\n",
       "    .dataframe tbody tr th {\n",
       "        vertical-align: top;\n",
       "    }\n",
       "\n",
       "    .dataframe thead th {\n",
       "        text-align: right;\n",
       "    }\n",
       "</style>\n",
       "<table border=\"1\" class=\"dataframe\">\n",
       "  <thead>\n",
       "    <tr style=\"text-align: right;\">\n",
       "      <th></th>\n",
       "      <th>station_count</th>\n",
       "    </tr>\n",
       "    <tr>\n",
       "      <th>station</th>\n",
       "      <th></th>\n",
       "    </tr>\n",
       "  </thead>\n",
       "  <tbody>\n",
       "    <tr>\n",
       "      <th>USC00519281</th>\n",
       "      <td>2772</td>\n",
       "    </tr>\n",
       "    <tr>\n",
       "      <th>USC00519397</th>\n",
       "      <td>2724</td>\n",
       "    </tr>\n",
       "    <tr>\n",
       "      <th>USC00513117</th>\n",
       "      <td>2709</td>\n",
       "    </tr>\n",
       "    <tr>\n",
       "      <th>USC00519523</th>\n",
       "      <td>2669</td>\n",
       "    </tr>\n",
       "    <tr>\n",
       "      <th>USC00516128</th>\n",
       "      <td>2612</td>\n",
       "    </tr>\n",
       "    <tr>\n",
       "      <th>USC00514830</th>\n",
       "      <td>2202</td>\n",
       "    </tr>\n",
       "    <tr>\n",
       "      <th>USC00511918</th>\n",
       "      <td>1979</td>\n",
       "    </tr>\n",
       "    <tr>\n",
       "      <th>USC00517948</th>\n",
       "      <td>1372</td>\n",
       "    </tr>\n",
       "    <tr>\n",
       "      <th>USC00518838</th>\n",
       "      <td>511</td>\n",
       "    </tr>\n",
       "  </tbody>\n",
       "</table>\n",
       "</div>"
      ],
      "text/plain": [
       "             station_count\n",
       "station                   \n",
       "USC00519281           2772\n",
       "USC00519397           2724\n",
       "USC00513117           2709\n",
       "USC00519523           2669\n",
       "USC00516128           2612\n",
       "USC00514830           2202\n",
       "USC00511918           1979\n",
       "USC00517948           1372\n",
       "USC00518838            511"
      ]
     },
     "execution_count": 16,
     "metadata": {},
     "output_type": "execute_result"
    }
   ],
   "source": [
    "# Dataframe for most active staitons sorted by station count\n",
    "indexed_activity"
   ]
  },
  {
   "cell_type": "code",
   "execution_count": 17,
   "metadata": {
    "slideshow": {
     "slide_type": "-"
    }
   },
   "outputs": [],
   "source": [
    "# Finding the highest value of the stations returned\n",
    "max_activity = indexed_activity.station_count.max()"
   ]
  },
  {
   "cell_type": "code",
   "execution_count": 18,
   "metadata": {},
   "outputs": [
    {
     "name": "stdout",
     "output_type": "stream",
     "text": [
      "Station with the most observations recorded: USC00519281, with a count of 2,772 observations\n"
     ]
    }
   ],
   "source": [
    "# Displaying the station name observation count of max_activity query\n",
    "most_active = list(np.where(indexed_activity[\"station_count\"]==max_activity)[0])\n",
    "station_max = indexed_activity.iloc[most_active]\n",
    "station_max =str(station_max.index[0])\n",
    "print(\"Station with the most observations recorded: \"+station_max+\n",
    "      \", with a count of {:,} observations\".format(max_activity))"
   ]
  },
  {
   "cell_type": "code",
   "execution_count": 19,
   "metadata": {},
   "outputs": [],
   "source": [
    "# Creating a query to database session to find all the \"tobs\" values from the \"station_max\" results for the past 12 months\n",
    "sh_results = session.query(Measurements.date,Measurements.tobs).\\\n",
    "            filter(Measurements.date >= pa_min_date).\\\n",
    "            filter(Measurements.station==station_max).all()"
   ]
  },
  {
   "cell_type": "code",
   "execution_count": 20,
   "metadata": {},
   "outputs": [],
   "source": [
    "# Converting the results of the query into a pandas dataframe\n",
    "sh_max_df = pd.DataFrame(np.array(sh_results), columns=({\"tobs\",\"date\"}))"
   ]
  },
  {
   "cell_type": "code",
   "execution_count": 21,
   "metadata": {},
   "outputs": [],
   "source": [
    "# Converting the data types so that the \"tobs\" column will return a value\n",
    "sh_max_df.tobs = sh_max_df.tobs.astype(float)"
   ]
  },
  {
   "cell_type": "code",
   "execution_count": 22,
   "metadata": {},
   "outputs": [
    {
     "data": {
      "text/plain": [
       "date     object\n",
       "tobs    float64\n",
       "dtype: object"
      ]
     },
     "execution_count": 22,
     "metadata": {},
     "output_type": "execute_result"
    }
   ],
   "source": [
    "# Verifying value types\n",
    "sh_max_df.dtypes"
   ]
  },
  {
   "cell_type": "code",
   "execution_count": 23,
   "metadata": {},
   "outputs": [
    {
     "data": {
      "text/html": [
       "<div>\n",
       "<style scoped>\n",
       "    .dataframe tbody tr th:only-of-type {\n",
       "        vertical-align: middle;\n",
       "    }\n",
       "\n",
       "    .dataframe tbody tr th {\n",
       "        vertical-align: top;\n",
       "    }\n",
       "\n",
       "    .dataframe thead th {\n",
       "        text-align: right;\n",
       "    }\n",
       "</style>\n",
       "<table border=\"1\" class=\"dataframe\">\n",
       "  <thead>\n",
       "    <tr style=\"text-align: right;\">\n",
       "      <th></th>\n",
       "      <th>date</th>\n",
       "      <th>tobs</th>\n",
       "    </tr>\n",
       "  </thead>\n",
       "  <tbody>\n",
       "    <tr>\n",
       "      <th>count</th>\n",
       "      <td>352</td>\n",
       "      <td>352.000000</td>\n",
       "    </tr>\n",
       "    <tr>\n",
       "      <th>unique</th>\n",
       "      <td>352</td>\n",
       "      <td>NaN</td>\n",
       "    </tr>\n",
       "    <tr>\n",
       "      <th>top</th>\n",
       "      <td>2017-03-17</td>\n",
       "      <td>NaN</td>\n",
       "    </tr>\n",
       "    <tr>\n",
       "      <th>freq</th>\n",
       "      <td>1</td>\n",
       "      <td>NaN</td>\n",
       "    </tr>\n",
       "    <tr>\n",
       "      <th>mean</th>\n",
       "      <td>NaN</td>\n",
       "      <td>73.107955</td>\n",
       "    </tr>\n",
       "    <tr>\n",
       "      <th>std</th>\n",
       "      <td>NaN</td>\n",
       "      <td>4.733315</td>\n",
       "    </tr>\n",
       "    <tr>\n",
       "      <th>min</th>\n",
       "      <td>NaN</td>\n",
       "      <td>59.000000</td>\n",
       "    </tr>\n",
       "    <tr>\n",
       "      <th>25%</th>\n",
       "      <td>NaN</td>\n",
       "      <td>70.000000</td>\n",
       "    </tr>\n",
       "    <tr>\n",
       "      <th>50%</th>\n",
       "      <td>NaN</td>\n",
       "      <td>74.000000</td>\n",
       "    </tr>\n",
       "    <tr>\n",
       "      <th>75%</th>\n",
       "      <td>NaN</td>\n",
       "      <td>77.000000</td>\n",
       "    </tr>\n",
       "    <tr>\n",
       "      <th>max</th>\n",
       "      <td>NaN</td>\n",
       "      <td>83.000000</td>\n",
       "    </tr>\n",
       "  </tbody>\n",
       "</table>\n",
       "</div>"
      ],
      "text/plain": [
       "              date        tobs\n",
       "count          352  352.000000\n",
       "unique         352         NaN\n",
       "top     2017-03-17         NaN\n",
       "freq             1         NaN\n",
       "mean           NaN   73.107955\n",
       "std            NaN    4.733315\n",
       "min            NaN   59.000000\n",
       "25%            NaN   70.000000\n",
       "50%            NaN   74.000000\n",
       "75%            NaN   77.000000\n",
       "max            NaN   83.000000"
      ]
     },
     "execution_count": 23,
     "metadata": {},
     "output_type": "execute_result"
    }
   ],
   "source": [
    "# Reviewing the summary data of the query returned\n",
    "sh_max_df.describe(include=\"all\")"
   ]
  },
  {
   "cell_type": "code",
   "execution_count": 24,
   "metadata": {},
   "outputs": [
    {
     "data": {
      "image/png": "[encoded data removed]",
      "text/plain": [
       "<Figure size 1080x936 with 1 Axes>"
      ]
     },
     "metadata": {},
     "output_type": "display_data"
    }
   ],
   "source": [
    "ax = sh_max_df.plot.hist(by=None, bins=12, figsize=(15, 13), color=\"#CF0055\", fontsize=17, edgecolor=\"#FFC1DA\")\n",
    "ax.set_xlabel(xlabel=\"\\n\\nPast 12 Months of Data\", fontsize=20, color=\"#000000\", fontweight=\"bold\")\n",
    "ax.set_frame_on(b=True)\n",
    "ax.set_facecolor(\"#222222\")\n",
    "ax.grid(True, alpha=.3)\n",
    "ax.set_ylabel(ylabel=\"Frequency\\n\\n\", fontsize=20,fontweight=\"bold\")\n",
    "ax.legend(frameon=True, fancybox=True, facecolor=\"#FFFFFF\", edgecolor=\"#FFC1DA\", shadow=True, loc=\"best\", fontsize=20, mode=\"exapnd\")\n",
    "ax.label_outer()\n",
    "ax.set_title(str(station_max+\" Historgram\\n\"), fontsize=32, color=\"#000000\",fontweight=\"bold\")\n",
    "plt.tight_layout()\n",
    "plt.savefig(\"tobs_histogram.png\")"
   ]
  },
  {
   "cell_type": "markdown",
   "metadata": {},
   "source": [
    "## Temperature Analysis"
   ]
  },
  {
   "cell_type": "markdown",
   "metadata": {},
   "source": [
    "##### Create a user input function for a span of dates, and output the minimum, average, and maximum temperatures. "
   ]
  },
  {
   "cell_type": "code",
   "execution_count": 25,
   "metadata": {},
   "outputs": [],
   "source": [
    "# Function to accept temperature ranges and return the results of the sql query\n",
    "def calc_temps(start_date, end_date):\n",
    "    return session.query(func.min(Measurements.tobs), func.avg(Measurements.tobs), func.max(Measurements.tobs)).\\\n",
    "        filter(Measurements.date >= start_date).filter(Measurements.date <= end_date).all()\n",
    " \n"
   ]
  },
  {
   "cell_type": "code",
   "execution_count": 26,
   "metadata": {},
   "outputs": [
    {
     "name": "stdout",
     "output_type": "stream",
     "text": [
      "Enter your starting and ending dates when prompted:\n"
     ]
    }
   ],
   "source": [
    "max_date = session.query(func.max(Measurements.date)).all()\n",
    "\n",
    "check = 0\n",
    "print(\"Enter your starting and ending dates when prompted:\")\n",
    "\n",
    "#while check == 0:\n",
    "sd = str(input(\"\\tStart Date in YYYY-MM-DD format: \"))\n",
    "ed = str(input(\"\\tEnd Date in YYYY-MM-DD format: \"))\n",
    "ds= pd.to_datetime(sd,format=\"%Y-%m-%d\", errors=\"coerce\")\n",
    "de= pd.to_datetime(ed,format=\"%Y-%m-%d\", errors=\"coerce\")\n",
    "ds_py = ds - dt.timedelta(days=365)\n",
    "de_py = de - dt.timedelta(days=365)\n",
    "thres = pa_max_date.toordinal() - de_py.toordinal()\n",
    "date_value = de.toordinal() - ds.toordinal()\n",
    "while check == 0:\n",
    "    if date_value < 0:\n",
    "        print(\"Your start date must be before yoru end date\")\n",
    "        check = 0\n",
    "    else:\n",
    "        if thres:\n",
    "            ds_py = ds - dt.timedelta(days=730)\n",
    "            de_py = de - dt.timedelta(days=730)\n",
    "        ds_pys = ds_py.strftime(\"%Y-%m-%d\")\n",
    "        de_pys = de_py.strftime(\"%Y-%m-%d\")\n",
    "        dates = calc_temps(ds_pys,de_pys)\n",
    "        check = 1"
   ]
  },
  {
   "cell_type": "code",
   "execution_count": 27,
   "metadata": {},
   "outputs": [
    {
     "data": {
      "text/html": [
       "<div>\n",
       "<style scoped>\n",
       "    .dataframe tbody tr th:only-of-type {\n",
       "        vertical-align: middle;\n",
       "    }\n",
       "\n",
       "    .dataframe tbody tr th {\n",
       "        vertical-align: top;\n",
       "    }\n",
       "\n",
       "    .dataframe thead th {\n",
       "        text-align: right;\n",
       "    }\n",
       "</style>\n",
       "<table border=\"1\" class=\"dataframe\">\n",
       "  <thead>\n",
       "    <tr style=\"text-align: right;\">\n",
       "      <th></th>\n",
       "      <th>Min-Temp</th>\n",
       "      <th>Avg-Temp</th>\n",
       "      <th>Max-Temp</th>\n",
       "    </tr>\n",
       "  </thead>\n",
       "  <tbody>\n",
       "    <tr>\n",
       "      <th>0</th>\n",
       "      <td>65.0</td>\n",
       "      <td>74.885714</td>\n",
       "      <td>79.0</td>\n",
       "    </tr>\n",
       "  </tbody>\n",
       "</table>\n",
       "</div>"
      ],
      "text/plain": [
       "   Min-Temp   Avg-Temp  Max-Temp\n",
       "0      65.0  74.885714      79.0"
      ]
     },
     "execution_count": 27,
     "metadata": {},
     "output_type": "execute_result"
    }
   ],
   "source": [
    "temp_table = pd.DataFrame(np.column_stack([dates]), columns=[\"Min-Temp\",\"Avg-Temp\",\"Max-Temp\"])\n",
    "temp_table"
   ]
  },
  {
   "cell_type": "code",
   "execution_count": 28,
   "metadata": {},
   "outputs": [],
   "source": [
    "temp_err = temp_table[\"Max-Temp\"]-temp_table[\"Min-Temp\"]\n",
    "max_temp = session.query(func.max(Measurements.tobs)).all()\n",
    "temp_upper_lim = int(pd.to_numeric(max_temp[0])) + 20\n",
    "temp_lower_lim = temp_table[\"Min-Temp\"].sum()-10\n",
    "temp_avg = temp_table[\"Avg-Temp\"].sum()"
   ]
  },
  {
   "cell_type": "code",
   "execution_count": 29,
   "metadata": {},
   "outputs": [
    {
     "data": {
      "image/png": "[encoded data removed]",
      "text/plain": [
       "<Figure size 864x864 with 1 Axes>"
      ]
     },
     "metadata": {},
     "output_type": "display_data"
    }
   ],
   "source": [
    "ax = temp_table.plot.bar(y=\"Avg-Temp\", yerr=temp_err, figsize=(12, 12), color=\"#FFC000\", fontsize=17, edgecolor=\"#010101\", linewidth=2)\n",
    "ax.set_ylim(bottom=0, top = temp_upper_lim)\n",
    "ax.set_frame_on(b=True)\n",
    "ax.set_xlabel(xlabel=\"\\n\\nHistorical Temperature Est.\", fontsize=20, color=\"#000000\", fontweight=\"bold\")\n",
    "ax.set_facecolor(\"#222222\")\n",
    "ax.grid(True, alpha=.3)\n",
    "ax.errorbar(y=temp_avg, x=0, yerr=temp_err, elinewidth=8, ecolor=\"#CF0055\")\n",
    "ax.set_ylabel(ylabel=\"Temperature\\n\\n\", fontsize=20,fontweight=\"bold\")\n",
    "ax.legend(frameon=True, fancybox=True, facecolor=\"#FFFFFF\", edgecolor=\"#BF8F00\", shadow=True, loc=\"best\", fontsize=20, mode=\"exapnd\")\n",
    "ax.label_outer()\n",
    "ax.set_title(str(\"Estimated Temperature for Trip Range\\n\"), fontsize=32, color=\"#000000\",fontweight=\"bold\")\n",
    "plt.tight_layout()\n",
    "plt.savefig(\"trip_temp_avgs.png\")"
   ]
  }
 ],
 "metadata": {
  "kernelspec": {
   "display_name": "Python [conda env:Anaconda3]",
   "language": "python",
   "name": "conda-env-Anaconda3-py"
  },
  "language_info": {
   "codemirror_mode": {
    "name": "ipython",
    "version": 3
   },
   "file_extension": ".py",
   "mimetype": "text/x-python",
   "name": "python",
   "nbconvert_exporter": "python",
   "pygments_lexer": "ipython3",
   "version": "3.6.5"
  }
 },
 "nbformat": 4,
 "nbformat_minor": 2
}
